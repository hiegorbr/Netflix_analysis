{
 "cells": [
  {
   "cell_type": "markdown",
   "metadata": {},
   "source": [
    "# Netflix movies\r\n",
    "\r\n",
    "In this project, we will analyze a dataset of Netflix movies. This dataset includes 7789 titles and 12 columns that describes the title: Show ID, Type, Title, Director, Cast, Country, Date added, Release Year, Rating, Duration, Listed in and Description.\r\n",
    "    \r\n",
    "We got this dataset in Kaggle, from the user Shivam Bansal. You can access in https://www.kaggle.com/shivamb/netflix-shows.\r\n",
    "    \r\n",
    "We'll analyze this data to get some insights and understand trendings about the titles in the neflix, using Python (numpy, pandas, matplotlib and seaborn) and Jupyter Notebooks."
   ]
  },
  {
   "cell_type": "markdown",
   "metadata": {},
   "source": [
    "## Downloading the Dataset\r\n",
    "\r\n",
    "The first step is to download the dataset. We are using the \"Netflix Movies and TV Shows\" from Shivam Bansal, in Kaggle.\r\n",
    "\r\n",
    "You can have access in https://www.kaggle.com/shivamb/netflix-shows."
   ]
  },
  {
   "cell_type": "code",
   "execution_count": null,
   "metadata": {},
   "outputs": [],
   "source": [
    "pip install jovian --upgrade --quiet"
   ]
  },
  {
   "cell_type": "markdown",
   "metadata": {},
   "source": [
    "Let's begin by downloading the data, and listing the files within the dataset."
   ]
  },
  {
   "cell_type": "code",
   "execution_count": null,
   "metadata": {},
   "outputs": [],
   "source": [
    "import pandas as pd\r\n",
    "import os\r\n",
    "\r\n",
    "pwd = os.getcwd()\r\n",
    "filepath = pwd + '\\\\netflix_titles.csv'\r\n",
    "\r\n",
    "netflix_df = pd.read_csv(filepath)\r\n",
    "netflix_df"
   ]
  },
  {
   "cell_type": "markdown",
   "metadata": {},
   "source": [
    "## Data Preparation and Cleaning\r\n",
    "\r\n",
    "We will analyze our data to understand how they are organized, filtering and sorting, describe our data and make sure that our data ROCCC's (Reliable, Original, Comprehensive, Current and Cited).\r\n",
    "Besides that, we need to make sure that our data can answer the questions needed.\r\n",
    "\r\n",
    "To do that, we will run some functions to better understand our data."
   ]
  },
  {
   "cell_type": "code",
   "execution_count": null,
   "metadata": {},
   "outputs": [],
   "source": [
    "netflix_df.shape"
   ]
  },
  {
   "cell_type": "markdown",
   "metadata": {},
   "source": [
    "Our dataset have 7787 rows and 12 columns."
   ]
  },
  {
   "cell_type": "code",
   "execution_count": null,
   "metadata": {},
   "outputs": [],
   "source": [
    "netflix_df.columns"
   ]
  },
  {
   "cell_type": "markdown",
   "metadata": {},
   "source": [
    "Our columns are: Show_id, Type, Title, Director, Cast, Country, Date Added, Release Year, Rating, Duration, Listed in and Description.\r\n",
    "\r\n",
    "We expect: \r\n",
    "\r\n",
    "The columns show_id, type, title, director, cast, country, rating, duration listed_in and description to be \"object\";\r\n",
    "\r\n",
    "The column date_added to be \"datetime\";\r\n",
    "\r\n",
    "The column release_year to be \"int\".\r\n",
    "    \r\n",
    "\r\n",
    "To verify the types and NaN values, we will utilize info() function."
   ]
  },
  {
   "cell_type": "code",
   "execution_count": null,
   "metadata": {},
   "outputs": [],
   "source": [
    "netflix_df.info()"
   ]
  },
  {
   "cell_type": "markdown",
   "metadata": {},
   "source": [
    "The columns date_added, release_year are not the type we expected, so we have to fix it.\r\n",
    "\r\n",
    "Besides that, director, cast, country, date_added and rating have some null values. Let's explore that too."
   ]
  },
  {
   "cell_type": "code",
   "execution_count": null,
   "metadata": {},
   "outputs": [],
   "source": [
    "netflix_df['date_added'] = pd.to_datetime(netflix_df.date_added)\r\n",
    "netflix_df['release_year'] = netflix_df.release_year.astype(int)"
   ]
  },
  {
   "cell_type": "code",
   "execution_count": null,
   "metadata": {},
   "outputs": [],
   "source": [
    "netflix_df[netflix_df['director'].isna()]"
   ]
  },
  {
   "cell_type": "markdown",
   "metadata": {},
   "source": [
    "We have 2389 null values in Director. We will change these null values to \"Unknown\"."
   ]
  },
  {
   "cell_type": "code",
   "execution_count": null,
   "metadata": {},
   "outputs": [],
   "source": [
    "netflix_df.at[netflix_df.director.isna(), 'director'] = \"Unknown\""
   ]
  },
  {
   "cell_type": "markdown",
   "metadata": {},
   "source": [
    "We will repeat this step to \"cast\", \"country\", and \"rating\"."
   ]
  },
  {
   "cell_type": "code",
   "execution_count": null,
   "metadata": {},
   "outputs": [],
   "source": [
    "netflix_df.at[netflix_df.cast.isna(), 'cast'] = \"Unknown\""
   ]
  },
  {
   "cell_type": "code",
   "execution_count": null,
   "metadata": {},
   "outputs": [],
   "source": [
    "netflix_df.at[netflix_df.country.isna(), 'country'] = \"Unknown\""
   ]
  },
  {
   "cell_type": "code",
   "execution_count": null,
   "metadata": {},
   "outputs": [],
   "source": [
    "netflix_df.at[netflix_df.rating.isna(), 'rating'] = \"Unknown\""
   ]
  },
  {
   "cell_type": "code",
   "execution_count": null,
   "metadata": {},
   "outputs": [],
   "source": [
    "netflix_df.info()"
   ]
  },
  {
   "cell_type": "markdown",
   "metadata": {},
   "source": [
    "We can see that the date_added column has 10 NaN values.\r\n",
    "\r\n",
    "We will remove these rows to get a more precise analysis."
   ]
  },
  {
   "cell_type": "code",
   "execution_count": null,
   "metadata": {},
   "outputs": [],
   "source": [
    "natindexes = netflix_df[netflix_df.date_added.isna()].index.array\r\n",
    "\r\n",
    "netflix_df2 = netflix_df.drop(labels=natindexes, axis=0)\r\n",
    "\r\n",
    "netflix_df2.info()"
   ]
  },
  {
   "cell_type": "markdown",
   "metadata": {},
   "source": [
    "Now all missing data is handled, and our data is ready to analysis.\r\n",
    "\r\n",
    "We will create 2 subdatasets to improve our analysis: netflix_movies and netflix_series."
   ]
  },
  {
   "cell_type": "code",
   "execution_count": null,
   "metadata": {},
   "outputs": [],
   "source": [
    "netflix_series = netflix_df2[netflix_df2['type'] == 'TV Show'].reset_index()\r\n",
    "\r\n",
    "netflix_series"
   ]
  },
  {
   "cell_type": "markdown",
   "metadata": {},
   "source": [
    "We need to need to modify Duration column, so we can make calculations."
   ]
  },
  {
   "cell_type": "code",
   "execution_count": null,
   "metadata": {},
   "outputs": [],
   "source": [
    "netflix_series[['duration', 'unit of duration']] = netflix_series.duration.str.split(n=2, expand=True)"
   ]
  },
  {
   "cell_type": "code",
   "execution_count": null,
   "metadata": {},
   "outputs": [],
   "source": [
    "netflix_series['duration'] = netflix_series.duration.astype(int)\r\n",
    "netflix_series.info()"
   ]
  },
  {
   "cell_type": "code",
   "execution_count": null,
   "metadata": {},
   "outputs": [],
   "source": [
    "netflix_movies = netflix_df2[netflix_df2['type'] == 'Movie'].reset_index()\r\n",
    "\r\n",
    "netflix_movies"
   ]
  },
  {
   "cell_type": "markdown",
   "metadata": {},
   "source": [
    "We will do the same to Movies dataset."
   ]
  },
  {
   "cell_type": "code",
   "execution_count": null,
   "metadata": {},
   "outputs": [],
   "source": [
    "netflix_movies[['duration', 'unit of duration']] = netflix_movies.duration.str.split(n=2, expand=True)"
   ]
  },
  {
   "cell_type": "code",
   "execution_count": null,
   "metadata": {},
   "outputs": [],
   "source": [
    "netflix_movies['duration'] = netflix_movies.duration.astype(int)\r\n",
    "\r\n",
    "netflix_movies.info()"
   ]
  },
  {
   "cell_type": "markdown",
   "metadata": {},
   "source": [
    "## Exploratory Analysis and Visualization\r\n",
    "\r\n",
    "We will run some analysis to get insight from the data.\r\n",
    "\r\n",
    "To improve our analysis, we'll make some visualizations to better understand."
   ]
  },
  {
   "cell_type": "code",
   "execution_count": null,
   "metadata": {},
   "outputs": [],
   "source": [
    "pip install matplotlib seaborn --upgrade --quiet"
   ]
  },
  {
   "cell_type": "code",
   "execution_count": null,
   "metadata": {},
   "outputs": [],
   "source": [
    "import seaborn as sns\r\n",
    "import matplotlib\r\n",
    "import matplotlib.pyplot as plt\r\n",
    "%matplotlib inline\r\n",
    "\r\n",
    "sns.set_style('darkgrid')\r\n",
    "matplotlib.rcParams['font.size'] = 14\r\n",
    "matplotlib.rcParams['figure.figsize'] = (9, 5)\r\n",
    "matplotlib.rcParams['figure.facecolor'] = '#00000000'"
   ]
  },
  {
   "cell_type": "markdown",
   "metadata": {},
   "source": [
    "To better understand how the duration of series are distributed in netflix, we will make a histogram to see how is distributed."
   ]
  },
  {
   "cell_type": "code",
   "execution_count": null,
   "metadata": {},
   "outputs": [],
   "source": [
    "plt.hist(netflix_series['duration'], bins=15)"
   ]
  },
  {
   "cell_type": "markdown",
   "metadata": {},
   "source": [
    "Now we going to make the same analysis for movies."
   ]
  },
  {
   "cell_type": "code",
   "execution_count": null,
   "metadata": {},
   "outputs": [],
   "source": [
    "plt.hist(netflix_movies['duration'], bins = 23)"
   ]
  },
  {
   "cell_type": "markdown",
   "metadata": {},
   "source": [
    "How production of Tv Shows are growing?"
   ]
  },
  {
   "cell_type": "code",
   "execution_count": null,
   "metadata": {},
   "outputs": [],
   "source": [
    "tvshows_productions = netflix_series[['release_year', 'show_id']][netflix_series['release_year'] < 2021].groupby('release_year').count()\r\n",
    "\r\n",
    "plt.plot(tvshows_productions)"
   ]
  },
  {
   "cell_type": "markdown",
   "metadata": {},
   "source": [
    "How production of Movies are growing?"
   ]
  },
  {
   "cell_type": "code",
   "execution_count": 178,
   "metadata": {},
   "outputs": [
    {
     "data": {
      "text/plain": [
       "[<matplotlib.lines.Line2D at 0x1e543b17790>]"
      ]
     },
     "execution_count": 178,
     "metadata": {},
     "output_type": "execute_result"
    },
    {
     "data": {
      "image/png": "[encoded data removed]",
      "text/plain": [
       "<Figure size 648x360 with 1 Axes>"
      ]
     },
     "metadata": {
      "needs_background": "light"
     },
     "output_type": "display_data"
    }
   ],
   "source": [
    "movies_productions = netflix_movies[['release_year', 'show_id']][netflix_movies['release_year'] < 2021].groupby('release_year').count()\r\n",
    "\r\n",
    "plt.plot(movies_productions)"
   ]
  },
  {
   "cell_type": "code",
   "execution_count": null,
   "metadata": {},
   "outputs": [],
   "source": [
    "peakproduction = max(movies_productions['show_id'])\r\n",
    "\r\n",
    "yearofpeak = movies_productions['show_id'][movies_productions['show_id'] == peakproduction].index.array\r\n",
    "yearofpeak = yearofpeak[0]\r\n",
    "\r\n",
    "print(\"Movies productions were growing until {}, with the peak production of {}, when started to decrease.\".format(yearofpeak, peakproduction))"
   ]
  },
  {
   "cell_type": "markdown",
   "metadata": {},
   "source": [
    "How netflix add titles to its platform?"
   ]
  },
  {
   "cell_type": "code",
   "execution_count": null,
   "metadata": {},
   "outputs": [],
   "source": [
    "netflix_df2['year_added'] = pd.DatetimeIndex(netflix_df2.date_added).year\r\n",
    "netflix_df2['month_added'] = pd.DatetimeIndex(netflix_df2.date_added).month\r\n",
    "netflix_df2\r\n"
   ]
  },
  {
   "cell_type": "code",
   "execution_count": null,
   "metadata": {},
   "outputs": [],
   "source": [
    "addanalysis = netflix_df2[['show_id', 'type', 'month_added', 'year_added']]\r\n",
    "addanalysismonth = addanalysis[['show_id', 'type', 'month_added']].groupby(['month_added', 'type']).count().reset_index()\r\n",
    "\r\n",
    "sns.barplot(x = 'month_added', y = 'show_id', hue = 'type', data = addanalysismonth)\r\n"
   ]
  },
  {
   "cell_type": "code",
   "execution_count": null,
   "metadata": {},
   "outputs": [],
   "source": [
    "addanalysisyear = addanalysis[['show_id', 'type', 'year_added']][addanalysis['year_added'] < 2021].groupby(['year_added', 'type']).count().reset_index()\r\n",
    "\r\n",
    "sns.barplot(x = 'year_added', y = 'show_id', hue = 'type', data = addanalysisyear)"
   ]
  },
  {
   "cell_type": "code",
   "execution_count": null,
   "metadata": {},
   "outputs": [],
   "source": [
    "import jovian"
   ]
  },
  {
   "cell_type": "code",
   "execution_count": null,
   "metadata": {},
   "outputs": [],
   "source": [
    "jovian.commit()"
   ]
  },
  {
   "cell_type": "markdown",
   "metadata": {},
   "source": [
    "## Asking and Answering Questions\r\n",
    "\r\n",
    "With our analysis done, let's ask some questions to improve our understanding of the netflix dataset."
   ]
  },
  {
   "cell_type": "markdown",
   "metadata": {},
   "source": [
    "Question 1 - Which duration is most common in Tv Shows on Netflix collection?"
   ]
  },
  {
   "cell_type": "code",
   "execution_count": null,
   "metadata": {},
   "outputs": [],
   "source": [
    "percent1season = netflix_series.duration[netflix_series['duration'] == 1].count() / netflix_series.duration.count() * 100\r\n",
    "pctfinalseries = round(percent1season, 2)\r\n",
    "print(\"{}% of series in Netflix have only 1 season.\".format(pctfinalseries))"
   ]
  },
  {
   "cell_type": "markdown",
   "metadata": {},
   "source": [
    "Question 2 - Which duration is most common in Movies on Netflix collection?"
   ]
  },
  {
   "cell_type": "code",
   "execution_count": null,
   "metadata": {},
   "outputs": [],
   "source": [
    "percentofmovies = netflix_movies.duration[(netflix_movies['duration'] > 83) & (netflix_movies['duration'] < 110)].count() / netflix_movies.duration.count() * 100\r\n",
    "pctfinalmovies = round(percentofmovies, ndigits=2)\r\n",
    "print(\"{}% of movies have the duration between 83 and 110 minutes.\".format(pctfinalmovies))"
   ]
  },
  {
   "cell_type": "markdown",
   "metadata": {},
   "source": [
    "Question 3 - TV Shows productions are increasing or decreasing over the last decade?"
   ]
  },
  {
   "cell_type": "code",
   "execution_count": 179,
   "metadata": {},
   "outputs": [
    {
     "name": "stdout",
     "output_type": "stream",
     "text": [
      "From 2011 to 2012, TV Shows productions increased 53.85%.\n",
      "From 2012 to 2013, TV Shows productions increased 6.67%.\n",
      "From 2013 to 2014, TV Shows productions increased 40.62%.\n",
      "From 2014 to 2015, TV Shows productions increased 74.44%.\n",
      "From 2015 to 2016, TV Shows productions increased 52.23%.\n",
      "From 2016 to 2017, TV Shows productions increased 12.13%.\n",
      "From 2017 to 2018, TV Shows productions increased 44.03%.\n",
      "From 2018 to 2019, TV Shows productions increased 7.25%.\n",
      "From 2019 to 2020, TV Shows productions increased 10.39%.\n"
     ]
    }
   ],
   "source": [
    "tvshowsthisdecade = tvshows_productions[tvshows_productions['release_year'] > 2010]\r\n",
    "tvshowsthisdecade = tvshowsthisdecade.reset_index(drop=True)\r\n",
    "tvshowsthisdecade\r\n",
    "\r\n",
    "\r\n",
    "for i in range(9):\r\n",
    "    percentincrease = round((tvshowsthisdecade.show_id[i + 1] - tvshowsthisdecade.show_id[i]) / tvshowsthisdecade.show_id[i] * 100, 2)\r\n",
    "    year = tvshowsthisdecade.release_year[i]\r\n",
    "    year2 = tvshowsthisdecade.release_year[i + 1]\r\n",
    "    print(\"From {} to {}, TV Shows productions increased {}%.\".format(year, year2, percentincrease))\r\n",
    "\r\n"
   ]
  },
  {
   "cell_type": "markdown",
   "metadata": {},
   "source": [
    "Question 4 - Movies productions are increasing or decreasing over the last decade?"
   ]
  },
  {
   "cell_type": "code",
   "execution_count": null,
   "metadata": {},
   "outputs": [],
   "source": [
    "movies_productions = movies_productions.reset_index()"
   ]
  },
  {
   "cell_type": "code",
   "execution_count": 180,
   "metadata": {},
   "outputs": [
    {
     "ename": "KeyError",
     "evalue": "'release_year'",
     "output_type": "error",
     "traceback": [
      "\u001b[1;31m---------------------------------------------------------------------------\u001b[0m",
      "\u001b[1;31mKeyError\u001b[0m                                  Traceback (most recent call last)",
      "\u001b[1;32m~\\AppData\\Local\\Programs\\Python\\Python39\\lib\\site-packages\\pandas\\core\\indexes\\base.py\u001b[0m in \u001b[0;36mget_loc\u001b[1;34m(self, key, method, tolerance)\u001b[0m\n\u001b[0;32m   3079\u001b[0m             \u001b[1;32mtry\u001b[0m\u001b[1;33m:\u001b[0m\u001b[1;33m\u001b[0m\u001b[1;33m\u001b[0m\u001b[0m\n\u001b[1;32m-> 3080\u001b[1;33m                 \u001b[1;32mreturn\u001b[0m \u001b[0mself\u001b[0m\u001b[1;33m.\u001b[0m\u001b[0m_engine\u001b[0m\u001b[1;33m.\u001b[0m\u001b[0mget_loc\u001b[0m\u001b[1;33m(\u001b[0m\u001b[0mcasted_key\u001b[0m\u001b[1;33m)\u001b[0m\u001b[1;33m\u001b[0m\u001b[1;33m\u001b[0m\u001b[0m\n\u001b[0m\u001b[0;32m   3081\u001b[0m             \u001b[1;32mexcept\u001b[0m \u001b[0mKeyError\u001b[0m \u001b[1;32mas\u001b[0m \u001b[0merr\u001b[0m\u001b[1;33m:\u001b[0m\u001b[1;33m\u001b[0m\u001b[1;33m\u001b[0m\u001b[0m\n",
      "\u001b[1;32mpandas\\_libs\\index.pyx\u001b[0m in \u001b[0;36mpandas._libs.index.IndexEngine.get_loc\u001b[1;34m()\u001b[0m\n",
      "\u001b[1;32mpandas\\_libs\\index.pyx\u001b[0m in \u001b[0;36mpandas._libs.index.IndexEngine.get_loc\u001b[1;34m()\u001b[0m\n",
      "\u001b[1;32mpandas\\_libs\\hashtable_class_helper.pxi\u001b[0m in \u001b[0;36mpandas._libs.hashtable.PyObjectHashTable.get_item\u001b[1;34m()\u001b[0m\n",
      "\u001b[1;32mpandas\\_libs\\hashtable_class_helper.pxi\u001b[0m in \u001b[0;36mpandas._libs.hashtable.PyObjectHashTable.get_item\u001b[1;34m()\u001b[0m\n",
      "\u001b[1;31mKeyError\u001b[0m: 'release_year'",
      "\nThe above exception was the direct cause of the following exception:\n",
      "\u001b[1;31mKeyError\u001b[0m                                  Traceback (most recent call last)",
      "\u001b[1;32m<ipython-input-180-7d0aa8eed519>\u001b[0m in \u001b[0;36m<module>\u001b[1;34m\u001b[0m\n\u001b[1;32m----> 1\u001b[1;33m \u001b[0mmoviesthisdecade\u001b[0m \u001b[1;33m=\u001b[0m \u001b[0mmovies_productions\u001b[0m\u001b[1;33m[\u001b[0m\u001b[0mmovies_productions\u001b[0m\u001b[1;33m[\u001b[0m\u001b[1;34m'release_year'\u001b[0m\u001b[1;33m]\u001b[0m \u001b[1;33m>\u001b[0m \u001b[1;36m2010\u001b[0m\u001b[1;33m]\u001b[0m\u001b[1;33m\u001b[0m\u001b[1;33m\u001b[0m\u001b[0m\n\u001b[0m\u001b[0;32m      2\u001b[0m \u001b[0mmoviesthisdecade\u001b[0m \u001b[1;33m=\u001b[0m \u001b[0mmoviesthisdecade\u001b[0m\u001b[1;33m.\u001b[0m\u001b[0mreset_index\u001b[0m\u001b[1;33m(\u001b[0m\u001b[0mdrop\u001b[0m\u001b[1;33m=\u001b[0m\u001b[1;32mTrue\u001b[0m\u001b[1;33m)\u001b[0m\u001b[1;33m\u001b[0m\u001b[1;33m\u001b[0m\u001b[0m\n\u001b[0;32m      3\u001b[0m \u001b[0mmoviesthisdecade\u001b[0m\u001b[1;33m\u001b[0m\u001b[1;33m\u001b[0m\u001b[0m\n\u001b[0;32m      4\u001b[0m \u001b[1;33m\u001b[0m\u001b[0m\n\u001b[0;32m      5\u001b[0m \u001b[1;32mfor\u001b[0m \u001b[0mi\u001b[0m \u001b[1;32min\u001b[0m \u001b[0mrange\u001b[0m\u001b[1;33m(\u001b[0m\u001b[1;36m9\u001b[0m\u001b[1;33m)\u001b[0m\u001b[1;33m:\u001b[0m\u001b[1;33m\u001b[0m\u001b[1;33m\u001b[0m\u001b[0m\n",
      "\u001b[1;32m~\\AppData\\Local\\Programs\\Python\\Python39\\lib\\site-packages\\pandas\\core\\frame.py\u001b[0m in \u001b[0;36m__getitem__\u001b[1;34m(self, key)\u001b[0m\n\u001b[0;32m   3022\u001b[0m             \u001b[1;32mif\u001b[0m \u001b[0mself\u001b[0m\u001b[1;33m.\u001b[0m\u001b[0mcolumns\u001b[0m\u001b[1;33m.\u001b[0m\u001b[0mnlevels\u001b[0m \u001b[1;33m>\u001b[0m \u001b[1;36m1\u001b[0m\u001b[1;33m:\u001b[0m\u001b[1;33m\u001b[0m\u001b[1;33m\u001b[0m\u001b[0m\n\u001b[0;32m   3023\u001b[0m                 \u001b[1;32mreturn\u001b[0m \u001b[0mself\u001b[0m\u001b[1;33m.\u001b[0m\u001b[0m_getitem_multilevel\u001b[0m\u001b[1;33m(\u001b[0m\u001b[0mkey\u001b[0m\u001b[1;33m)\u001b[0m\u001b[1;33m\u001b[0m\u001b[1;33m\u001b[0m\u001b[0m\n\u001b[1;32m-> 3024\u001b[1;33m             \u001b[0mindexer\u001b[0m \u001b[1;33m=\u001b[0m \u001b[0mself\u001b[0m\u001b[1;33m.\u001b[0m\u001b[0mcolumns\u001b[0m\u001b[1;33m.\u001b[0m\u001b[0mget_loc\u001b[0m\u001b[1;33m(\u001b[0m\u001b[0mkey\u001b[0m\u001b[1;33m)\u001b[0m\u001b[1;33m\u001b[0m\u001b[1;33m\u001b[0m\u001b[0m\n\u001b[0m\u001b[0;32m   3025\u001b[0m             \u001b[1;32mif\u001b[0m \u001b[0mis_integer\u001b[0m\u001b[1;33m(\u001b[0m\u001b[0mindexer\u001b[0m\u001b[1;33m)\u001b[0m\u001b[1;33m:\u001b[0m\u001b[1;33m\u001b[0m\u001b[1;33m\u001b[0m\u001b[0m\n\u001b[0;32m   3026\u001b[0m                 \u001b[0mindexer\u001b[0m \u001b[1;33m=\u001b[0m \u001b[1;33m[\u001b[0m\u001b[0mindexer\u001b[0m\u001b[1;33m]\u001b[0m\u001b[1;33m\u001b[0m\u001b[1;33m\u001b[0m\u001b[0m\n",
      "\u001b[1;32m~\\AppData\\Local\\Programs\\Python\\Python39\\lib\\site-packages\\pandas\\core\\indexes\\base.py\u001b[0m in \u001b[0;36mget_loc\u001b[1;34m(self, key, method, tolerance)\u001b[0m\n\u001b[0;32m   3080\u001b[0m                 \u001b[1;32mreturn\u001b[0m \u001b[0mself\u001b[0m\u001b[1;33m.\u001b[0m\u001b[0m_engine\u001b[0m\u001b[1;33m.\u001b[0m\u001b[0mget_loc\u001b[0m\u001b[1;33m(\u001b[0m\u001b[0mcasted_key\u001b[0m\u001b[1;33m)\u001b[0m\u001b[1;33m\u001b[0m\u001b[1;33m\u001b[0m\u001b[0m\n\u001b[0;32m   3081\u001b[0m             \u001b[1;32mexcept\u001b[0m \u001b[0mKeyError\u001b[0m \u001b[1;32mas\u001b[0m \u001b[0merr\u001b[0m\u001b[1;33m:\u001b[0m\u001b[1;33m\u001b[0m\u001b[1;33m\u001b[0m\u001b[0m\n\u001b[1;32m-> 3082\u001b[1;33m                 \u001b[1;32mraise\u001b[0m \u001b[0mKeyError\u001b[0m\u001b[1;33m(\u001b[0m\u001b[0mkey\u001b[0m\u001b[1;33m)\u001b[0m \u001b[1;32mfrom\u001b[0m \u001b[0merr\u001b[0m\u001b[1;33m\u001b[0m\u001b[1;33m\u001b[0m\u001b[0m\n\u001b[0m\u001b[0;32m   3083\u001b[0m \u001b[1;33m\u001b[0m\u001b[0m\n\u001b[0;32m   3084\u001b[0m         \u001b[1;32mif\u001b[0m \u001b[0mtolerance\u001b[0m \u001b[1;32mis\u001b[0m \u001b[1;32mnot\u001b[0m \u001b[1;32mNone\u001b[0m\u001b[1;33m:\u001b[0m\u001b[1;33m\u001b[0m\u001b[1;33m\u001b[0m\u001b[0m\n",
      "\u001b[1;31mKeyError\u001b[0m: 'release_year'"
     ]
    }
   ],
   "source": [
    "moviesthisdecade = movies_productions[movies_productions['release_year'] > 2010]\r\n",
    "moviesthisdecade = moviesthisdecade.reset_index(drop=True)\r\n",
    "moviesthisdecade\r\n",
    "\r\n",
    "for i in range(9):\r\n",
    "    percentincrease = round((moviesthisdecade.show_id[i + 1] - moviesthisdecade.show_id[i]) / moviesthisdecade.show_id[i] * 100, 2)\r\n",
    "    year = moviesthisdecade.release_year[i]\r\n",
    "    year2 = moviesthisdecade.release_year[i + 1]\r\n",
    "    if percentincrease > 0:\r\n",
    "        print(\"From {} to {}, TV Shows productions increased {}%.\".format(year, year2, percentincrease))\r\n",
    "    else:\r\n",
    "        percentincrease = percentincrease * (-1)\r\n",
    "        print(\"From {} to {}, TV Shows productions decreased {}%.\".format(year, year2, percentincrease))\r\n",
    "\r\n"
   ]
  },
  {
   "cell_type": "markdown",
   "metadata": {},
   "source": [
    "Question 5 - Which are the top 3 months that Netflix adds new TV Shows to its collection?"
   ]
  },
  {
   "cell_type": "code",
   "execution_count": 181,
   "metadata": {},
   "outputs": [],
   "source": [
    "top3months = addanalysismonth[addanalysismonth['type'] == 'TV Show'].sort_values('show_id', ascending=False).head(3).reset_index()\r\n"
   ]
  },
  {
   "cell_type": "code",
   "execution_count": 182,
   "metadata": {},
   "outputs": [
    {
     "name": "stdout",
     "output_type": "stream",
     "text": [
      "The 12º month is top 1, with 279 TV Shows added.\n",
      "The 10º month is top 2, with 232 TV Shows added.\n",
      "The 11º month is top 3, with 227 TV Shows added.\n"
     ]
    }
   ],
   "source": [
    "for i in range (3):\r\n",
    "    month = top3months.month_added[i]\r\n",
    "    shows = top3months.show_id[i]\r\n",
    "    a = i+1\r\n",
    "    print(\"The {}º month is top {}, with {} TV Shows added.\".format(month, a, shows))"
   ]
  },
  {
   "cell_type": "markdown",
   "metadata": {},
   "source": [
    "Question 6 - Which are the top 3 months that Netflix adds new Movies to its collection?"
   ]
  },
  {
   "cell_type": "code",
   "execution_count": 183,
   "metadata": {},
   "outputs": [],
   "source": [
    "top3monthsmovies = addanalysismonth[addanalysismonth['type'] == 'Movie'].sort_values('show_id', ascending=False).head(3).reset_index()"
   ]
  },
  {
   "cell_type": "code",
   "execution_count": 184,
   "metadata": {},
   "outputs": [
    {
     "name": "stdout",
     "output_type": "stream",
     "text": [
      "The 1º month is top 1, with 560 Movies added.\n",
      "The 12º month is top 2, with 554 Movies added.\n",
      "The 10º month is top 3, with 553 Movies added.\n"
     ]
    }
   ],
   "source": [
    "for i in range (3):\r\n",
    "    month = top3monthsmovies.month_added[i]\r\n",
    "    shows = top3monthsmovies.show_id[i]\r\n",
    "    a = i+1\r\n",
    "    print(\"The {}º month is top {}, with {} Movies added.\".format(month, a, shows))\r\n"
   ]
  },
  {
   "cell_type": "markdown",
   "metadata": {},
   "source": [
    "Question 7 - Which year Netflix added the most TV Shows to its collection?"
   ]
  },
  {
   "cell_type": "code",
   "execution_count": 185,
   "metadata": {},
   "outputs": [
    {
     "data": {
      "text/html": [
       "<div>\n",
       "<style scoped>\n",
       "    .dataframe tbody tr th:only-of-type {\n",
       "        vertical-align: middle;\n",
       "    }\n",
       "\n",
       "    .dataframe tbody tr th {\n",
       "        vertical-align: top;\n",
       "    }\n",
       "\n",
       "    .dataframe thead th {\n",
       "        text-align: right;\n",
       "    }\n",
       "</style>\n",
       "<table border=\"1\" class=\"dataframe\">\n",
       "  <thead>\n",
       "    <tr style=\"text-align: right;\">\n",
       "      <th></th>\n",
       "      <th>index</th>\n",
       "      <th>year_added</th>\n",
       "      <th>type</th>\n",
       "      <th>show_id</th>\n",
       "    </tr>\n",
       "  </thead>\n",
       "  <tbody>\n",
       "    <tr>\n",
       "      <th>0</th>\n",
       "      <td>21</td>\n",
       "      <td>2020</td>\n",
       "      <td>TV Show</td>\n",
       "      <td>697</td>\n",
       "    </tr>\n",
       "  </tbody>\n",
       "</table>\n",
       "</div>"
      ],
      "text/plain": [
       "   index  year_added     type  show_id\n",
       "0     21        2020  TV Show      697"
      ]
     },
     "execution_count": 185,
     "metadata": {},
     "output_type": "execute_result"
    }
   ],
   "source": [
    "topyeartvshows = addanalysisyear[addanalysisyear['type'] == 'TV Show'].sort_values('show_id', ascending=False).head(1).reset_index()\r\n",
    "topyeartvshows"
   ]
  },
  {
   "cell_type": "code",
   "execution_count": 186,
   "metadata": {},
   "outputs": [
    {
     "name": "stdout",
     "output_type": "stream",
     "text": [
      "The year that Netflix added most TV Shows to its collection was 2020, with 697 TV Shows added.\n"
     ]
    }
   ],
   "source": [
    "year = topyeartvshows.year_added[0]\r\n",
    "tvshowsadded = topyeartvshows.show_id[0]\r\n",
    "\r\n",
    "print(\"The year that Netflix added most TV Shows to its collection was {}, with {} TV Shows added.\".format(year, tvshowsadded))"
   ]
  },
  {
   "cell_type": "markdown",
   "metadata": {},
   "source": [
    "Question 8 - Which year Netflix added the most Movies to its collection?"
   ]
  },
  {
   "cell_type": "code",
   "execution_count": 187,
   "metadata": {},
   "outputs": [
    {
     "data": {
      "text/html": [
       "<div>\n",
       "<style scoped>\n",
       "    .dataframe tbody tr th:only-of-type {\n",
       "        vertical-align: middle;\n",
       "    }\n",
       "\n",
       "    .dataframe tbody tr th {\n",
       "        vertical-align: top;\n",
       "    }\n",
       "\n",
       "    .dataframe thead th {\n",
       "        text-align: right;\n",
       "    }\n",
       "</style>\n",
       "<table border=\"1\" class=\"dataframe\">\n",
       "  <thead>\n",
       "    <tr style=\"text-align: right;\">\n",
       "      <th></th>\n",
       "      <th>index</th>\n",
       "      <th>year_added</th>\n",
       "      <th>type</th>\n",
       "      <th>show_id</th>\n",
       "    </tr>\n",
       "  </thead>\n",
       "  <tbody>\n",
       "    <tr>\n",
       "      <th>0</th>\n",
       "      <td>18</td>\n",
       "      <td>2019</td>\n",
       "      <td>Movie</td>\n",
       "      <td>1497</td>\n",
       "    </tr>\n",
       "  </tbody>\n",
       "</table>\n",
       "</div>"
      ],
      "text/plain": [
       "   index  year_added   type  show_id\n",
       "0     18        2019  Movie     1497"
      ]
     },
     "execution_count": 187,
     "metadata": {},
     "output_type": "execute_result"
    }
   ],
   "source": [
    "topyearmovie = addanalysisyear[addanalysisyear['type'] == 'Movie'].sort_values('show_id', ascending=False).head(1).reset_index()\r\n",
    "topyearmovie"
   ]
  },
  {
   "cell_type": "code",
   "execution_count": 188,
   "metadata": {},
   "outputs": [
    {
     "name": "stdout",
     "output_type": "stream",
     "text": [
      "The year that Netflix added most TV Shows to its collection was 2019, with 1497 Movies added.\n"
     ]
    }
   ],
   "source": [
    "year = topyearmovie.year_added[0]\r\n",
    "moviesadded = topyearmovie.show_id[0]\r\n",
    "\r\n",
    "print(\"The year that Netflix added most TV Shows to its collection was {}, with {} Movies added.\".format(year, moviesadded))"
   ]
  },
  {
   "cell_type": "code",
   "execution_count": 177,
   "metadata": {},
   "outputs": [
    {
     "ename": "SyntaxError",
     "evalue": "invalid syntax (<ipython-input-177-b9be91d6a089>, line 1)",
     "output_type": "error",
     "traceback": [
      "\u001b[1;36m  File \u001b[1;32m\"<ipython-input-177-b9be91d6a089>\"\u001b[1;36m, line \u001b[1;32m1\u001b[0m\n\u001b[1;33m    jovian clone notebook-owner/notebook-id\u001b[0m\n\u001b[1;37m           ^\u001b[0m\n\u001b[1;31mSyntaxError\u001b[0m\u001b[1;31m:\u001b[0m invalid syntax\n"
     ]
    }
   ],
   "source": []
  }
 ],
 "metadata": {
  "interpreter": {
   "hash": "93390a1053323e70256b520e1840c79c577da1b52fd93f80b6546c26a10414da"
  },
  "kernelspec": {
   "display_name": "Python 3.9.5 64-bit",
   "name": "python3"
  },
  "language_info": {
   "codemirror_mode": {
    "name": "ipython",
    "version": 3
   },
   "file_extension": ".py",
   "mimetype": "text/x-python",
   "name": "python",
   "nbconvert_exporter": "python",
   "pygments_lexer": "ipython3",
   "version": "3.9.5"
  },
  "orig_nbformat": 4
 },
 "nbformat": 4,
 "nbformat_minor": 2
}